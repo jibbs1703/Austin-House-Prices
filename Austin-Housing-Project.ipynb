{
 "cells": [
  {
   "cell_type": "markdown",
   "id": "acc7ef03",
   "metadata": {},
   "source": [
    "# Austin Housing Project (Exploratory Data Analysis and Predictive Modelling)"
   ]
  },
  {
   "cell_type": "code",
   "execution_count": 1,
   "id": "c4b78ae0-f6e3-49fe-89c5-154c3d0c733e",
   "metadata": {},
   "outputs": [
    {
     "name": "stderr",
     "output_type": "stream",
     "text": [
      "C:\\Users\\New\\anaconda3\\Lib\\site-packages\\fuzzywuzzy\\fuzz.py:11: UserWarning: Using slow pure-python SequenceMatcher. Install python-Levenshtein to remove this warning\n",
      "  warnings.warn('Using slow pure-python SequenceMatcher. Install python-Levenshtein to remove this warning')\n"
     ]
    }
   ],
   "source": [
    "# Importing Necessary Libraries\n",
    "# Libraries for Data Analysis and Visualization\n",
    "import pandas as pd\n",
    "import numpy as np\n",
    "import seaborn as sns\n",
    "import plotly.express as px\n",
    "import matplotlib.pyplot as plt\n",
    "from uszipcode import SearchEngine\n",
    "import folium\n",
    "from branca.colormap import linear, LinearColormap\n",
    "\n",
    "# Libraries for Machine Learning "
   ]
  },
  {
   "cell_type": "code",
   "execution_count": 2,
   "id": "b0cdb0a0-6f1c-46b3-82db-1e95f072e521",
   "metadata": {},
   "outputs": [
    {
     "name": "stdout",
     "output_type": "stream",
     "text": [
      "The Austin Housing Dataset has 15171 rows and 47 columns.\n"
     ]
    }
   ],
   "source": [
    "# Import Data and Check Shape (Please replace filepath to suit your needs)\n",
    "filepath = 'C:/Users/New/Downloads/datasets/Austin-Housing-Project/austinHousingData.csv'\n",
    "austin = pd.read_csv(filepath)\n",
    "print(f\"The Austin Housing Dataset has {austin.shape[0]} rows and {austin.shape[1]} columns.\")"
   ]
  },
  {
   "cell_type": "code",
   "execution_count": 17,
   "id": "38130b6b-7198-48f3-bb06-3d10bf98e07e",
   "metadata": {
    "scrolled": true
   },
   "outputs": [
    {
     "name": "stdout",
     "output_type": "stream",
     "text": [
      "<class 'pandas.core.frame.DataFrame'>\n",
      "RangeIndex: 15171 entries, 0 to 15170\n",
      "Data columns (total 47 columns):\n",
      " #   Column                      Non-Null Count  Dtype  \n",
      "---  ------                      --------------  -----  \n",
      " 0   zpid                        15171 non-null  int64  \n",
      " 1   city                        15171 non-null  object \n",
      " 2   streetAddress               15171 non-null  object \n",
      " 3   zipcode                     15171 non-null  int64  \n",
      " 4   description                 15169 non-null  object \n",
      " 5   latitude                    15171 non-null  float64\n",
      " 6   longitude                   15171 non-null  float64\n",
      " 7   propertyTaxRate             15171 non-null  float64\n",
      " 8   garageSpaces                15171 non-null  int64  \n",
      " 9   hasAssociation              15171 non-null  bool   \n",
      " 10  hasCooling                  15171 non-null  bool   \n",
      " 11  hasGarage                   15171 non-null  bool   \n",
      " 12  hasHeating                  15171 non-null  bool   \n",
      " 13  hasSpa                      15171 non-null  bool   \n",
      " 14  hasView                     15171 non-null  bool   \n",
      " 15  homeType                    15171 non-null  object \n",
      " 16  parkingSpaces               15171 non-null  int64  \n",
      " 17  yearBuilt                   15171 non-null  int64  \n",
      " 18  latestPrice                 15171 non-null  float64\n",
      " 19  numPriceChanges             15171 non-null  int64  \n",
      " 20  latest_saledate             15171 non-null  object \n",
      " 21  latest_salemonth            15171 non-null  int64  \n",
      " 22  latest_saleyear             15171 non-null  int64  \n",
      " 23  latestPriceSource           15171 non-null  object \n",
      " 24  numOfPhotos                 15171 non-null  int64  \n",
      " 25  numOfAccessibilityFeatures  15171 non-null  int64  \n",
      " 26  numOfAppliances             15171 non-null  int64  \n",
      " 27  numOfParkingFeatures        15171 non-null  int64  \n",
      " 28  numOfPatioAndPorchFeatures  15171 non-null  int64  \n",
      " 29  numOfSecurityFeatures       15171 non-null  int64  \n",
      " 30  numOfWaterfrontFeatures     15171 non-null  int64  \n",
      " 31  numOfWindowFeatures         15171 non-null  int64  \n",
      " 32  numOfCommunityFeatures      15171 non-null  int64  \n",
      " 33  lotSizeSqFt                 15171 non-null  float64\n",
      " 34  livingAreaSqFt              15171 non-null  float64\n",
      " 35  numOfPrimarySchools         15171 non-null  int64  \n",
      " 36  numOfElementarySchools      15171 non-null  int64  \n",
      " 37  numOfMiddleSchools          15171 non-null  int64  \n",
      " 38  numOfHighSchools            15171 non-null  int64  \n",
      " 39  avgSchoolDistance           15171 non-null  float64\n",
      " 40  avgSchoolRating             15171 non-null  float64\n",
      " 41  avgSchoolSize               15171 non-null  int64  \n",
      " 42  MedianStudentsPerTeacher    15171 non-null  int64  \n",
      " 43  numOfBathrooms              15171 non-null  float64\n",
      " 44  numOfBedrooms               15171 non-null  int64  \n",
      " 45  numOfStories                15171 non-null  int64  \n",
      " 46  homeImage                   15171 non-null  object \n",
      "dtypes: bool(6), float64(9), int64(25), object(7)\n",
      "memory usage: 4.8+ MB\n"
     ]
    }
   ],
   "source": [
    "# Checking Datatypes and Missing Values (Either Command can be Used)\n",
    "austin.info()\n",
    "#austin.isna().sum()"
   ]
  },
  {
   "cell_type": "code",
   "execution_count": null,
   "id": "3b3afa2f",
   "metadata": {},
   "outputs": [],
   "source": [
    "# Feature Engineering and Transformation of Dataset Variables\n",
    "# Map elements of the City Column to be either Austin or Surrounding Areas\n",
    "def city_func(element):\n",
    "    if element  == 'austin':\n",
    "        return 'Austin'\n",
    "    else:\n",
    "        return 'Surrounding Areas'\n",
    "austin['city'] = austin['city'].apply(city_func)\n",
    "\n",
    "# Transform zipcode from Int to Object\n",
    "austin['zipcode'] = austin['zipcode'].astype('object') \n",
    "\n",
    "# Rename latestPrice to Price\n",
    "rename(columns={'latestPrice' : 'Price'}) \n",
    "\n",
    "# Transform yearBuilt to ageofHouse (drop yearBuilt)\n",
    "austin[\"ageofHouse\"] = 2021 - austin[\"yearBuilt\"] \n",
    "\n",
    "# Transform the Latest_salemonth Column to Season Column \n",
    "month = {1: 'Winter', 2: 'Winter', 3 : 'Spring',\n",
    "         4: 'Spring', 5: 'Spring', 6: 'Summer',\n",
    "         7: 'Summer', 8: 'Summer', 9: 'Fall',\n",
    "         10: 'Fall', 11: 'Fall', 12: 'Winter'}\n",
    "austin['Season'] = austin['latest_salemonth'].map(season) \n",
    "\n",
    "# Transform latest_salemonth from Int to Object\n",
    "month = {1: 'January', 2: 'February', 3 : 'March',\n",
    "         4: 'April', 5: 'May', 6: 'June',\n",
    "         7: 'July', 8: 'August', 9: 'September',\n",
    "         10: 'October', 11: 'November', 12: 'December'}\n",
    "austin['latest_salemonth'] = austin['latest_salemonth'].map(month) \n",
    "\n",
    "# Transform latest_saleyear from Int to Object\n",
    "austin['latest_saleyear'] = austin['latest_saleyear'].astype('object') \n",
    "\n",
    "# Dropping Ouliers (Top and Bottom 10% will be Removed)\n",
    "\n",
    "# Drop Columns Deemed Not Relevant to the Prediction after Feature Engineering\n",
    "austin.drop(columns=['streetAddress', 'description', 'latestPriceSource', 'homeImage', 'yearBuilt'], inplace=True)"
   ]
  },
  {
   "cell_type": "code",
   "execution_count": null,
   "id": "0e1e6222",
   "metadata": {},
   "outputs": [],
   "source": []
  },
  {
   "cell_type": "code",
   "execution_count": 15,
   "id": "b6faff35",
   "metadata": {},
   "outputs": [],
   "source": []
  },
  {
   "cell_type": "code",
   "execution_count": null,
   "id": "c275f8c6",
   "metadata": {},
   "outputs": [],
   "source": []
  },
  {
   "cell_type": "code",
   "execution_count": null,
   "id": "7ea2093c",
   "metadata": {},
   "outputs": [],
   "source": [
    "print(f\"The Cleaned and Pre-processed Austin Housing Dataset has {austin.shape[0]} rows and {austin.shape[1]} columns.\")"
   ]
  },
  {
   "cell_type": "code",
   "execution_count": null,
   "id": "f10d6a4d",
   "metadata": {},
   "outputs": [],
   "source": [
    "# Data Visualization (with Question Asked for Visualization)"
   ]
  },
  {
   "cell_type": "code",
   "execution_count": null,
   "id": "e427d946",
   "metadata": {},
   "outputs": [],
   "source": [
    "austin.hist(figsize=(18,15), bins=100);"
   ]
  },
  {
   "cell_type": "code",
   "execution_count": null,
   "id": "b7a16d57",
   "metadata": {},
   "outputs": [],
   "source": [
    "austin['latest_salemonth'].value_counts().plot(kind = 'barh');"
   ]
  },
  {
   "cell_type": "code",
   "execution_count": null,
   "id": "01a56fd2",
   "metadata": {},
   "outputs": [],
   "source": [
    "# What Zipcodes have the Highest and Lowest Median Prices\n",
    "median_zipcode = austin.groupby('latest_salemonth')['latestPrice'].median().sort_values(ascending=False)\n",
    "median_zipcode.head(15).plot(kind = 'barh');"
   ]
  },
  {
   "cell_type": "code",
   "execution_count": null,
   "id": "2167e425",
   "metadata": {},
   "outputs": [],
   "source": [
    "# House Density by Zipcode\n",
    "austin['zipcode'].value_counts().tail(10).plot(kind=\"barh\");"
   ]
  },
  {
   "cell_type": "code",
   "execution_count": null,
   "id": "e6903792-79c4-409f-9076-2710fde87601",
   "metadata": {},
   "outputs": [],
   "source": [
    "# Descriptive Insights and Vizualization\n",
    "# Sort the Variables into Separate Lists of the Categorical and Numerical Columns in the Dataset\n",
    "float_cols = list(austin.select_dtypes(include=['float64']).columns)\n",
    "print(len(float_cols))\n",
    "print(float_cols)\n",
    "\n",
    "int_cols = list(austin.select_dtypes(include=['int64']).columns)\n",
    "print(len(int_cols))\n",
    "print(int_cols)\n",
    "\n",
    "bool_cols = list(austin.select_dtypes(include=['bool']).columns)\n",
    "print(len(bool_cols))\n",
    "print(bool_cols)\n",
    "\n",
    "cat_cols = list(austin.select_dtypes(include=['object']).columns)\n",
    "print(len(cat_cols))\n",
    "print(cat_cols)"
   ]
  },
  {
   "cell_type": "code",
   "execution_count": null,
   "id": "b5625e9a",
   "metadata": {},
   "outputs": [],
   "source": [
    "# Use Histograms to View the Distribution of the Int Variables\n",
    "plt.figure(figsize=(15, 20))\n",
    "for i, col in enumerate(int_cols, 1):\n",
    "    if col != \"latestPrice\":\n",
    "        plt.subplot(13, 2, i)\n",
    "        sns.histplot(austin[col], kde=True)\n",
    "        plt.title(col)\n",
    "\n",
    "plt.show()"
   ]
  },
  {
   "cell_type": "code",
   "execution_count": null,
   "id": "00793fb6",
   "metadata": {},
   "outputs": [],
   "source": [
    "# Use Histograms to View the Distribution of the Float Variables\n",
    "plt.figure(figsize=(15, 10))\n",
    "for i, col in enumerate(float_cols, 1):\n",
    "    plt.subplot(2, 2, i)\n",
    "    sns.histplot(austin[col], kde=True)\n",
    "    plt.title(col)\n",
    "\n",
    "plt.tight_layout()\n",
    "plt.show()"
   ]
  },
  {
   "cell_type": "code",
   "execution_count": null,
   "id": "bcab2a91",
   "metadata": {},
   "outputs": [],
   "source": [
    "# Use Countplots to View the Distribution of the Object Variables\n",
    "plt.figure(figsize=(15, 20))\n",
    "for i, col in enumerate(cat_cols, 1):\n",
    "    plt.subplot(6, 2, i)\n",
    "    sns.countplot(data=austin, x=col)\n",
    "    plt.ylabel('Frequency')\n",
    "\n",
    "plt.tight_layout()\n",
    "plt.show()"
   ]
  },
  {
   "cell_type": "code",
   "execution_count": null,
   "id": "ea925606",
   "metadata": {},
   "outputs": [],
   "source": [
    "# Use Countplots to View the Distribution of the Boolean Variables\n",
    "plt.figure(figsize=(15, 20))\n",
    "for i, col in enumerate(bool_cols, 1):\n",
    "    plt.subplot(6, 2, i)\n",
    "    plt.subplot(6, 2, i)\n",
    "    sns.countplot(data=austin, x=col)\n",
    "    plt.ylabel('Frequency')\n",
    "\n",
    "plt.tight_layout()\n",
    "plt.show()"
   ]
  },
  {
   "cell_type": "code",
   "execution_count": null,
   "id": "a4f846e8",
   "metadata": {},
   "outputs": [],
   "source": [
    "# LatestPrice (Target Variable) Distribution\n",
    "plt.figure(figsize=(15, 10))\n",
    "for i, col in enumerate(int_cols, 1):\n",
    "    if col = \"latestPrice\":\n",
    "    plt.subplot(2, 2, i)\n",
    "    sns.histplot(austin[col], kde=True)\n",
    "    plt.title(col)\n",
    "\n",
    "plt.tight_layout()\n",
    "plt.show()"
   ]
  },
  {
   "cell_type": "code",
   "execution_count": null,
   "id": "e77572f9",
   "metadata": {},
   "outputs": [],
   "source": [
    "# Correlation of Numeric Features with Target (Ignore the Direction to View the Magnitude)\n",
    "feat_corr = austin.corr(numeric_only = True)['latestPrice'].abs()\n",
    "feat_corr = feat_corr.sort_values(axis=0, ascending=False)\n",
    "feat_corr = feat_corr.drop('latestPrice')\n",
    "\n",
    "fig, axs = plt.subplots(2, 1, figsize=(15, 10))\n",
    "feat_corr.head(20).plot(kind = 'barh', ax = axs[0], title = 'Top 20 Numeric Feature Correlations with House Price')\n",
    "feat_corr.tail(20).plot(kind = 'barh', ax = axs[1], title = 'Bottom 20 Numeric Feature Correlations with House Price');"
   ]
  },
  {
   "cell_type": "code",
   "execution_count": null,
   "id": "6ec9b367",
   "metadata": {},
   "outputs": [],
   "source": [
    "# Visualizing the Median House Prices by Zipcode (Using Folium and USZipcodes)\n",
    "median_prices = austin.groupby(\"zipcode\")[\"latestPrice\"].median()\n",
    "# Instantiante SearchEngine\n",
    "search = SearchEngine()\n",
    "zipcodes = [search.by_zipcode(zipcode) for zipcode in median_prices.index]\n",
    "# Define a color scale\n",
    "custom_colors = ['#2c7bb6', '#abd9e9', '#fdae61', '#d7191c']\n",
    "colormap = LinearColormap(custom_colors, vmin=0, vmax=100).scale(median_prices.min(), median_prices.max())\n",
    "# Create the map\n",
    "austin_zip_map = folium.Map(location=[30.2672, -97.7431], zoom_start=11, tiles=\"OpenStreetMap\")\n",
    "# Add circles for each ZIP code\n",
    "for zipcode in zipcodes:\n",
    "    center_lat = zipcode.lat\n",
    "    center_lon = zipcode.lng\n",
    "    median_price = median_prices.get(float(zipcode.zipcode), 0)\n",
    "    color = colormap(median_price)\n",
    "    folium.CircleMarker(\n",
    "        location=[center_lat, center_lon],\n",
    "        radius=10,\n",
    "        fill=True,\n",
    "        color=color,\n",
    "        fill_opacity=1.0,\n",
    "        tooltip=\"ZIP code: {}<br>Median Price: ${:,.0f}\".format(zipcode.zipcode, median_price)\n",
    "    ).add_to(austin_zip_map)\n",
    "\n",
    "# Display the map\n",
    "austin_zip_map\n"
   ]
  },
  {
   "cell_type": "code",
   "execution_count": null,
   "id": "04f02a65",
   "metadata": {},
   "outputs": [],
   "source": []
  },
  {
   "cell_type": "code",
   "execution_count": null,
   "id": "e03e3665",
   "metadata": {},
   "outputs": [],
   "source": [
    "# Machine Learning - Price Prediction Model\n",
    "target = 'latestPrice'\n",
    "features = austin.drop(columns = ['latestPrice', 'zpid'])\n",
    "\n",
    "X = austin.drop('latestPrice', axis=1)\n",
    "y = austin['latestPrice']\n",
    "\n",
    "X_train, X_test, y_train, y_test = train_test_split(\n",
    "X, y, test_size=0.2, random_state=42)"
   ]
  }
 ],
 "metadata": {
  "kernelspec": {
   "display_name": "Python 3 (ipykernel)",
   "language": "python",
   "name": "python3"
  },
  "language_info": {
   "codemirror_mode": {
    "name": "ipython",
    "version": 3
   },
   "file_extension": ".py",
   "mimetype": "text/x-python",
   "name": "python",
   "nbconvert_exporter": "python",
   "pygments_lexer": "ipython3",
   "version": "3.11.5"
  }
 },
 "nbformat": 4,
 "nbformat_minor": 5
}
